{
 "cells": [
  {
   "cell_type": "code",
   "execution_count": 18,
   "id": "e080f1f0d3be29e4",
   "metadata": {
    "collapsed": false,
    "ExecuteTime": {
     "end_time": "2024-03-20T18:54:51.141188800Z",
     "start_time": "2024-03-20T18:54:51.137605Z"
    }
   },
   "outputs": [],
   "source": [
    "metadata = {\n",
    "    'Author      ': 'Jay Annadurai',\n",
    "    'Date        ': '20 Mar 2024',\n",
    "    'Project     ': 'PQ-B528',\n",
    "    'Version     ': 1.0,\n",
    "    'Description ': ' '\n",
    "}"
   ]
  },
  {
   "cell_type": "code",
   "outputs": [],
   "source": [
    "# ~~~~~~~~~~~~~~~~~~\n",
    "#  Import Libraries\n",
    "# ~~~~~~~~~~~~~~~~~~\n",
    "import pandas as pd  # Data Reading\n",
    "import seaborn as sb  # Advanced Data Visualization\n",
    "import matplotlib.pyplot as plt  # Data Visualization\n",
    "import numpy as np  # Computation\n",
    "import scipy as sp # Statistical Methods\n",
    "\n",
    "# ~~~~~~~~~~~~~~~~~~~~~~~\n",
    "#  Import Utlity Classes\n",
    "# ~~~~~~~~~~~~~~~~~~~~~~~\n",
    "from pprint import pprint as print  # Override the standard print function with Pretty Print\n",
    "from JayUtilities import DataIO as Jio  # Data Input/Output Processing Utility Class"
   ],
   "metadata": {
    "collapsed": false,
    "ExecuteTime": {
     "end_time": "2024-03-20T18:54:51.151215500Z",
     "start_time": "2024-03-20T18:54:51.141188800Z"
    }
   },
   "id": "1ef5aa2289942f9d",
   "execution_count": 19
  },
  {
   "cell_type": "code",
   "outputs": [],
   "source": [
    "# ~~~~~~~~~~~~~~~\n",
    "#  Script Config\n",
    "# ~~~~~~~~~~~~~~~\n",
    "# Input Config\n",
    "Jio.input_folder = \"Input/\" # Sets the Input Folder for the DataIO Class\n",
    "input_file = 'SampleInput.xlsx' # Name of the Input File\n",
    "input_format = 'xlsx' # Optionally force the encode format of the Input File\n",
    "\n",
    "# Output Config\n",
    "Jio.output_folder= \"Output/\" # Sets the Output Folder for the DataIO Class\n",
    "save_file = True, # Sets whether the script should save the final file or not\n",
    "output_file = 'SampleOutput' # Name of the file to save the Output to\n",
    "output_format = 'tsv' # Format of the file to save the Output as"
   ],
   "metadata": {
    "collapsed": false,
    "ExecuteTime": {
     "end_time": "2024-03-20T18:54:51.178694700Z",
     "start_time": "2024-03-20T18:54:51.149698500Z"
    }
   },
   "id": "462682190d4bf270",
   "execution_count": 20
  },
  {
   "cell_type": "code",
   "outputs": [],
   "source": [],
   "metadata": {
    "collapsed": false,
    "ExecuteTime": {
     "end_time": "2024-03-20T18:54:51.178694700Z",
     "start_time": "2024-03-20T18:54:51.157209900Z"
    }
   },
   "id": "beda39d5a0f2876",
   "execution_count": 20
  },
  {
   "cell_type": "code",
   "outputs": [
    {
     "name": "stdout",
     "output_type": "stream",
     "text": [
      "{'cols': {'count': 19,\n",
      "          'dtypes': {'GSM820516': dtype('float64'),\n",
      "                     'GSM820517': dtype('float64'),\n",
      "                     'GSM820518': dtype('float64'),\n",
      "                     'GSM820519': dtype('float64'),\n",
      "                     'GSM820520': dtype('float64'),\n",
      "                     'GSM820521': dtype('float64'),\n",
      "                     'GSM820522': dtype('float64'),\n",
      "                     'GSM820523': dtype('float64'),\n",
      "                     'GSM820524': dtype('float64'),\n",
      "                     'GSM820525': dtype('float64'),\n",
      "                     'GSM820526': dtype('float64'),\n",
      "                     'GSM820527': dtype('float64'),\n",
      "                     'GSM820528': dtype('float64'),\n",
      "                     'GSM820529': dtype('float64'),\n",
      "                     'GSM820530': dtype('float64'),\n",
      "                     'GSM820531': dtype('float64'),\n",
      "                     'GSM820532': dtype('float64'),\n",
      "                     'GSM820533': dtype('float64'),\n",
      "                     'Probe_ID': dtype('O')},\n",
      "          'names': ['Probe_ID',\n",
      "                    'GSM820516',\n",
      "                    'GSM820517',\n",
      "                    'GSM820518',\n",
      "                    'GSM820519',\n",
      "                    'GSM820520',\n",
      "                    'GSM820521',\n",
      "                    'GSM820522',\n",
      "                    'GSM820523',\n",
      "                    'GSM820524',\n",
      "                    'GSM820525',\n",
      "                    'GSM820526',\n",
      "                    'GSM820527',\n",
      "                    'GSM820528',\n",
      "                    'GSM820529',\n",
      "                    'GSM820530',\n",
      "                    'GSM820531',\n",
      "                    'GSM820532',\n",
      "                    'GSM820533']},\n",
      " 'rows': {'count': 48804, 'names': 'Exceeds Row Limit of 100'}}\n"
     ]
    }
   ],
   "source": [
    "# ~~~~~~~~~~~~~ \n",
    "#  Import Data\n",
    "# ~~~~~~~~~~~~~\n",
    "df_dict = Jio.file_to_df(file_name=input_file, force_encode_format=input_format)\n",
    "dataframe = df_dict[\"df\"]\n",
    "print(df_dict['metadata'])"
   ],
   "metadata": {
    "collapsed": false,
    "ExecuteTime": {
     "end_time": "2024-03-20T18:55:40.167085900Z",
     "start_time": "2024-03-20T18:55:32.212214600Z"
    }
   },
   "id": "cdd744fdd185833e",
   "execution_count": 27
  },
  {
   "cell_type": "code",
   "outputs": [
    {
     "name": "stdout",
     "output_type": "stream",
     "text": [
      "~~~~~~~~~~~~~~~~~~~~~~~~~~~~~~~~~~~~~~~~\n",
      "Gene Expression Data: 48804 Row x 19 Col\n",
      "~~~~~~~~~~~~~~~~~~~~~~~~~~~~~~~~~~~~~~~~\n",
      "\n",
      "       Probe_ID   GSM820516   GSM820517   GSM820518   GSM820519   GSM820520  \\\n",
      "0  ILMN_1343291      0.0000      0.0000      0.0000      0.0000      0.0000   \n",
      "1  ILMN_1343291  66665.3800  69404.6700  64128.0700  68943.9700  67827.2200   \n",
      "2  ILMN_1343295  22040.1100  13046.3400  38678.9600  16641.8900  33719.8900   \n",
      "3  ILMN_1651199      0.0000    205.4483    217.2475    229.0451    226.3029   \n",
      "4  ILMN_1651209   -278.5710    253.7044    211.8002    278.0423    259.8059   \n",
      "5  ILMN_1651210         NaN    195.9835    175.3356    193.9065    229.5674   \n",
      "6  ILMN_1651221         NaN    206.0723    219.5992    205.0462    194.7481   \n",
      "7  ILMN_1651228  17556.5200   9639.6110  20990.7000  19182.0300  24082.5100   \n",
      "8  ILMN_1651229    547.4667    799.7516    790.4313   1127.9260    935.4859   \n",
      "9  ILMN_1651230    227.9082    219.9870    211.4823    212.2066    201.5164   \n",
      "\n",
      "    GSM820521   GSM820522   GSM820523   GSM820524   GSM820525   GSM820526  \\\n",
      "0      0.0000      0.0000      0.0000      0.0000  68244.5900  65427.4700   \n",
      "1  71775.3000  62245.5900  69713.7000  69509.2700  68244.5900  65427.4700   \n",
      "2  18933.2900  26170.0400   9906.9130  17166.5200  12428.9500  25297.5700   \n",
      "3    203.8710    213.4431    210.4129    229.5394    212.7384    226.1345   \n",
      "4    265.1900    321.2587    273.4458    253.6032    310.1582    275.0126   \n",
      "5    164.0632    244.6696    190.9813    188.1039    199.3084    220.6229   \n",
      "6    233.9729    233.2414    222.1413    244.1758    209.8247    227.8108   \n",
      "7  19496.3600  24936.4800  19565.2900  18694.9300  14893.2300  20691.0700   \n",
      "8   1073.5220    597.6053    602.7064    492.8044    566.7881   1281.6560   \n",
      "9    208.3410    203.1799    193.3308    242.9327    226.5470    191.1635   \n",
      "\n",
      "    GSM820527   GSM820528   GSM820529   GSM820530   GSM820531   GSM820532  \\\n",
      "0         NaN  57608.6700  69959.7700         NaN  70063.7700  69647.1700   \n",
      "1  68436.5200  57608.6700  69959.7700  69509.2700  70063.7700  69647.1700   \n",
      "2  17535.6000  19749.1400  17854.2900  43670.6800  22849.0800  23725.6600   \n",
      "3    232.2437    208.7316    229.2948    214.4033    216.6758    195.6539   \n",
      "4    274.9519    250.6420    255.8540    219.5752    292.4965    253.3126   \n",
      "5    213.3975    194.7746    173.7073    185.3380    174.6898    195.3534   \n",
      "6    255.9940    233.5495    194.4097    218.6604    271.4561    222.7748   \n",
      "7  15309.3400  22260.1400  15291.5300  21223.7100  17474.7600  16453.3600   \n",
      "8    846.4782    635.0886    630.5234    735.8383    838.0926    918.0897   \n",
      "9    199.4487    203.0951    194.5303    194.5724    218.5369    221.3456   \n",
      "\n",
      "    GSM820533  \n",
      "0  70332.3400  \n",
      "1  70332.3400  \n",
      "2  28747.0100  \n",
      "3    252.1502  \n",
      "4    237.9844  \n",
      "5    191.9382  \n",
      "6    241.0521  \n",
      "7  17969.8900  \n",
      "8   1012.2340  \n",
      "9    175.1828  \n",
      "~~~~~~~~~~~~~~~~~~~~~~~~~~~~~~~~~~~~~~~~\n"
     ]
    }
   ],
   "source": [
    "Jio.print_df(dataframe,\"Gene Expression Data\")"
   ],
   "metadata": {
    "collapsed": false,
    "ExecuteTime": {
     "end_time": "2024-03-20T18:54:59.089263Z",
     "start_time": "2024-03-20T18:54:59.077594500Z"
    }
   },
   "id": "cf8be46fc26a6e69",
   "execution_count": 22
  },
  {
   "cell_type": "code",
   "outputs": [
    {
     "name": "stdout",
     "output_type": "stream",
     "text": [
      "~~~~~~~~~~~~~~~~~~~~~~~~~~~~~~~~~~~~~~~~\n",
      "Long Gene Expression: 878472 Row x 3 Col\n",
      "~~~~~~~~~~~~~~~~~~~~~~~~~~~~~~~~~~~~~~~~\n",
      "\n",
      "       Probe_ID     Sample  Expression\n",
      "0  ILMN_1343291  GSM820516      0.0000\n",
      "1  ILMN_1343291  GSM820516  66665.3800\n",
      "2  ILMN_1343295  GSM820516  22040.1100\n",
      "3  ILMN_1651199  GSM820516      0.0000\n",
      "4  ILMN_1651209  GSM820516   -278.5710\n",
      "5  ILMN_1651210  GSM820516         NaN\n",
      "6  ILMN_1651221  GSM820516         NaN\n",
      "7  ILMN_1651228  GSM820516  17556.5200\n",
      "8  ILMN_1651229  GSM820516    547.4667\n",
      "9  ILMN_1651230  GSM820516    227.9082\n",
      "~~~~~~~~~~~~~~~~~~~~~~~~~~~~~~~~~~~~~~~~\n"
     ]
    }
   ],
   "source": [
    "# ~~~~~~~~~~~~~~~~~~~~~~~~~~~~~~\n",
    "#  Melt the DF into Long Format\n",
    "# ~~~~~~~~~~~~~~~~~~~~~~~~~~~~~~\n",
    "long_dataframe = Jio.wide_to_long(\n",
    "    df = dataframe,\n",
    "    group_by = \"Probe_ID\",\n",
    "    grouped_columns_name = \"Sample\",\n",
    "    dependent_variable_name= \"Expression\"\n",
    ")\n",
    "\n",
    "Jio.print_df(long_dataframe,\"Long Gene Expression\")"
   ],
   "metadata": {
    "collapsed": false,
    "ExecuteTime": {
     "end_time": "2024-03-20T18:54:59.178177300Z",
     "start_time": "2024-03-20T18:54:59.088266200Z"
    }
   },
   "id": "7ffa0908a7827cb2",
   "execution_count": 23
  },
  {
   "cell_type": "code",
   "outputs": [
    {
     "name": "stdout",
     "output_type": "stream",
     "text": [
      "~~~~~~~~~~~~~~~~~~~~~~~~~~~~~~~~~~~~~~~~~~~~~~~~~~\n",
      "Processed Long Gene Expression: 878467 Row x 3 Col\n",
      "~~~~~~~~~~~~~~~~~~~~~~~~~~~~~~~~~~~~~~~~~~~~~~~~~~\n",
      "\n",
      "       Probe_ID     Sample  Expression\n",
      "0  ILMN_1343291  GSM820516      0.0000\n",
      "1  ILMN_1343291  GSM820516  66665.3800\n",
      "2  ILMN_1343295  GSM820516  22040.1100\n",
      "3  ILMN_1651199  GSM820516      0.0000\n",
      "4  ILMN_1651228  GSM820516  17556.5200\n",
      "5  ILMN_1651229  GSM820516    547.4667\n",
      "6  ILMN_1651230  GSM820516    227.9082\n",
      "7  ILMN_1651232  GSM820516    304.5083\n",
      "8  ILMN_1651235  GSM820516    245.1882\n",
      "9  ILMN_1651236  GSM820516    232.6654\n",
      "~~~~~~~~~~~~~~~~~~~~~~~~~~~~~~~~~~~~~~~~~~~~~~~~~~\n"
     ]
    }
   ],
   "source": [
    "# ~~~~~~~~~~~~~~~~~~~~~~~~~~~~\n",
    "#  Process the Long Format DF\n",
    "# ~~~~~~~~~~~~~~~~~~~~~~~~~~~~\n",
    "final_df = Jio.preprocess_long_df_values(\n",
    "    long_df=long_dataframe,\n",
    "    data_columns='Expression',\n",
    "    behavior_nans='Drop',\n",
    "    behavior_negs='Drop',\n",
    "    behavior_zeroes='Keep',\n",
    "    force_type='float'\n",
    ")\n",
    "\n",
    "Jio.print_df(final_df,\"Processed Long Gene Expression\")\n"
   ],
   "metadata": {
    "collapsed": false,
    "ExecuteTime": {
     "end_time": "2024-03-20T18:54:59.254355200Z",
     "start_time": "2024-03-20T18:54:59.177179300Z"
    }
   },
   "id": "471eff3238b498ba",
   "execution_count": 24
  },
  {
   "cell_type": "code",
   "outputs": [],
   "source": [
    "# ~~~~~~~~~~~~~~~~~\n",
    "#  Save the Output\n",
    "# ~~~~~~~~~~~~~~~~~\n",
    "if save_file: Jio.df_to_file(df=final_df, file_name=output_file,file_format=output_format)\n"
   ],
   "metadata": {
    "collapsed": false,
    "ExecuteTime": {
     "end_time": "2024-03-20T18:55:00.251307600Z",
     "start_time": "2024-03-20T18:54:59.254355200Z"
    }
   },
   "id": "1765d7679b15edd0",
   "execution_count": 25
  },
  {
   "cell_type": "code",
   "outputs": [],
   "source": [
    "# ~~~~~~~~~~~~~~~\n",
    "#  End of Script\n",
    "# ~~~~~~~~~~~~~~~\n"
   ],
   "metadata": {
    "collapsed": false,
    "ExecuteTime": {
     "end_time": "2024-03-20T18:55:00.256782100Z",
     "start_time": "2024-03-20T18:55:00.253137200Z"
    }
   },
   "id": "d2b1d74205904891",
   "execution_count": 26
  },
  {
   "cell_type": "code",
   "outputs": [],
   "source": [],
   "metadata": {
    "collapsed": false,
    "ExecuteTime": {
     "end_time": "2024-03-20T18:55:00.260342700Z",
     "start_time": "2024-03-20T18:55:00.255700900Z"
    }
   },
   "id": "e6f0904588404300",
   "execution_count": 26
  }
 ],
 "metadata": {
  "kernelspec": {
   "display_name": "Python 3",
   "language": "python",
   "name": "python3"
  },
  "language_info": {
   "codemirror_mode": {
    "name": "ipython",
    "version": 2
   },
   "file_extension": ".py",
   "mimetype": "text/x-python",
   "name": "python",
   "nbconvert_exporter": "python",
   "pygments_lexer": "ipython2",
   "version": "2.7.6"
  }
 },
 "nbformat": 4,
 "nbformat_minor": 5
}
