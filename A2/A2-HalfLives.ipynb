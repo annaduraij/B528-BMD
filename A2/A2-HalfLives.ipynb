{
 "cells": [
  {
   "cell_type": "code",
   "execution_count": 69,
   "id": "e080f1f0d3be29e4",
   "metadata": {
    "collapsed": false,
    "ExecuteTime": {
     "end_time": "2024-02-21T20:28:54.759390600Z",
     "start_time": "2024-02-21T20:28:54.755384100Z"
    }
   },
   "outputs": [],
   "source": [
    "metadata = {\n",
    "    'Author      ': 'Jay Annadurai',\n",
    "    'Date        ': '14 Feb 2024',\n",
    "    'Project     ': 'A1-Matrices',\n",
    "    'Version     ': 1.0,\n",
    "    'Description ': 'Reads and Compares Gene Expression Matrices in RPKM and Generates corresponding Correlation Matrices and  Correlation Heatmaps'\n",
    "}"
   ]
  },
  {
   "cell_type": "code",
   "outputs": [],
   "source": [
    "# Input Matrix Files\n",
    "matrix = \"DecayTimecourse\"\n",
    "input_folder = \"data/\"\n",
    "output_folder = \"output/\""
   ],
   "metadata": {
    "collapsed": false,
    "ExecuteTime": {
     "end_time": "2024-02-21T20:28:54.771473700Z",
     "start_time": "2024-02-21T20:28:54.762900Z"
    }
   },
   "id": "462682190d4bf270",
   "execution_count": 70
  },
  {
   "cell_type": "code",
   "outputs": [],
   "source": [
    "# Import Libraries\n",
    "import pandas as pd  # Data Reading\n",
    "import seaborn as sb  # Advanced Data Visualization\n",
    "import matplotlib.pyplot as mplot  # Data Visualization\n",
    "import numpy as numpy  # Computation"
   ],
   "metadata": {
    "collapsed": false,
    "ExecuteTime": {
     "end_time": "2024-02-21T20:28:54.836555400Z",
     "start_time": "2024-02-21T20:28:54.769471800Z"
    }
   },
   "id": "2da7516f847f9d8a",
   "execution_count": 71
  },
  {
   "cell_type": "code",
   "outputs": [],
   "source": [
    "###############\n",
    "# Import Data #\n",
    "###############\n",
    "\n",
    "def read_matrix_to_df(folder: str, file_name: str, extension: str):\n",
    "    # Function Reads the Matrix and Returns it as a Pandas DF\n",
    "\n",
    "    # Read the TSV\n",
    "    extension = \".\" + extension.lower()\n",
    "    file_path = folder + file_name + extension\n",
    "    matrix_df = pd.read_csv(file_path, sep='\\t', header=0)\n",
    "\n",
    "    # Drop the Extra Column Produced by Extraneous Delimiters\n",
    "    matrix_df = matrix_df.drop(columns=['Unnamed: 13'])\n",
    "\n",
    "    # Excluding the non-numeric column (assuming it's the first column)\n",
    "    numeric_df = matrix_df.select_dtypes(include=[float, int])\n",
    "\n",
    "    # Generate the 1D Vector of Values\n",
    "    matrix_vector = numeric_df.values.flatten()\n",
    "\n",
    "    # Return a Dict with the File Name, the Original DF, the Numeric DF, and the Flattened Vector\n",
    "    return {\"name\": file_name, \"df\": matrix_df, \"numeric_df\": numeric_df, \"vector\": matrix_vector}"
   ],
   "metadata": {
    "collapsed": false,
    "ExecuteTime": {
     "end_time": "2024-02-21T20:28:54.837064800Z",
     "start_time": "2024-02-21T20:28:54.778737300Z"
    }
   },
   "id": "cdd744fdd185833e",
   "execution_count": 72
  },
  {
   "cell_type": "code",
   "outputs": [],
   "source": [
    "# Import the Dataframe\n",
    "decay_df_dict = read_matrix_to_df(input_folder, matrix,\"txt\")\n",
    "decay_df = decay_df_dict[\"df\"]"
   ],
   "metadata": {
    "collapsed": true,
    "ExecuteTime": {
     "end_time": "2024-02-21T20:28:54.856813500Z",
     "start_time": "2024-02-21T20:28:54.786800Z"
    }
   },
   "id": "initial_id",
   "execution_count": 73
  },
  {
   "cell_type": "code",
   "outputs": [
    {
     "data": {
      "text/plain": "     Time course #  timecourse1  Unnamed: 2  Unnamed: 3  Unnamed: 4  \\\n0             YORF          0.0    5.000000   10.000000   15.000000   \n1          YAL026C          1.0    0.703032         NaN         NaN   \n2          YDR148C          NaN         NaN         NaN         NaN   \n3          YIL125W          1.0    1.176639    0.823170    0.556528   \n4          YLR240W          NaN         NaN         NaN         NaN   \n...            ...          ...         ...         ...         ...   \n6180       YHR217C          1.0         NaN         NaN         NaN   \n6181       YPR202W          1.0   -1.614135   -1.987968   -1.572060   \n6182       YFL063W          1.0    0.709353         NaN         NaN   \n6183       YDR543C          1.0    0.384179  -11.808840  -12.892562   \n6184       YGL260W          1.0   -1.695612   -0.029452   -0.208028   \n\n      Unnamed: 5  Unnamed: 6  Unnamed: 7  Unnamed: 8  Unnamed: 9  ...  \\\n0      20.000000   30.000000   40.000000   50.000000   60.000000  ...   \n1            NaN    0.713088    0.332218    0.215325    0.226495  ...   \n2            NaN         NaN         NaN         NaN         NaN  ...   \n3            NaN    0.712678    0.427962    0.320204    0.276578  ...   \n4            NaN         NaN         NaN         NaN         NaN  ...   \n...          ...         ...         ...         ...         ...  ...   \n6180         NaN    1.086471   -0.683673    0.853815    0.131799  ...   \n6181   -2.140755         NaN   -2.624831         NaN   -2.929300  ...   \n6182    0.384163   -0.003912   -1.611686         NaN   -1.417343  ...   \n6183         NaN  -88.868870         NaN         NaN         NaN  ...   \n6184    1.084516         NaN         NaN   -0.222101         NaN  ...   \n\n      Unnamed: 18  timecourse3  Unnamed: 20  Unnamed: 21  Unnamed: 22  \\\n0       60.000000          0.0     5.000000    10.000000    15.000000   \n1             NaN          NaN          NaN          NaN          NaN   \n2        0.374799          1.0     0.968435          NaN     0.551961   \n3             NaN          1.0     0.830889     0.577928     0.812495   \n4             NaN          1.0     0.930606          NaN     0.637943   \n...           ...          ...          ...          ...          ...   \n6180     0.621047          1.0     0.720896     0.217361     0.372403   \n6181    -2.435356          1.0    -1.062584    -1.766918    -1.066211   \n6182          NaN          1.0          NaN    -1.107214    -0.985987   \n6183          NaN          1.0          NaN          NaN          NaN   \n6184          NaN          1.0     1.169410          NaN          NaN   \n\n      Unnamed: 23  Unnamed: 24  Unnamed: 25  Unnamed: 26  Unnamed: 27  \n0       20.000000    30.000000    40.000000    50.000000    60.000000  \n1             NaN          NaN          NaN          NaN          NaN  \n2        0.430054     0.483829     0.398754     0.223900     0.246680  \n3        0.591393     0.564740     0.450448     0.494973     0.374799  \n4             NaN     0.610046     0.340338     0.260625          NaN  \n...           ...          ...          ...          ...          ...  \n6180    -0.245485    -1.210194     0.255268    -1.275420          NaN  \n6181    -1.900540    -1.659776    -2.599347    -3.163888    -2.765729  \n6182    -1.409186    -1.515253    -2.073723    -2.828369          NaN  \n6183          NaN          NaN          NaN          NaN          NaN  \n6184          NaN          NaN          NaN          NaN          NaN  \n\n[6185 rows x 27 columns]",
      "text/html": "<div>\n<style scoped>\n    .dataframe tbody tr th:only-of-type {\n        vertical-align: middle;\n    }\n\n    .dataframe tbody tr th {\n        vertical-align: top;\n    }\n\n    .dataframe thead th {\n        text-align: right;\n    }\n</style>\n<table border=\"1\" class=\"dataframe\">\n  <thead>\n    <tr style=\"text-align: right;\">\n      <th></th>\n      <th>Time course #</th>\n      <th>timecourse1</th>\n      <th>Unnamed: 2</th>\n      <th>Unnamed: 3</th>\n      <th>Unnamed: 4</th>\n      <th>Unnamed: 5</th>\n      <th>Unnamed: 6</th>\n      <th>Unnamed: 7</th>\n      <th>Unnamed: 8</th>\n      <th>Unnamed: 9</th>\n      <th>...</th>\n      <th>Unnamed: 18</th>\n      <th>timecourse3</th>\n      <th>Unnamed: 20</th>\n      <th>Unnamed: 21</th>\n      <th>Unnamed: 22</th>\n      <th>Unnamed: 23</th>\n      <th>Unnamed: 24</th>\n      <th>Unnamed: 25</th>\n      <th>Unnamed: 26</th>\n      <th>Unnamed: 27</th>\n    </tr>\n  </thead>\n  <tbody>\n    <tr>\n      <th>0</th>\n      <td>YORF</td>\n      <td>0.0</td>\n      <td>5.000000</td>\n      <td>10.000000</td>\n      <td>15.000000</td>\n      <td>20.000000</td>\n      <td>30.000000</td>\n      <td>40.000000</td>\n      <td>50.000000</td>\n      <td>60.000000</td>\n      <td>...</td>\n      <td>60.000000</td>\n      <td>0.0</td>\n      <td>5.000000</td>\n      <td>10.000000</td>\n      <td>15.000000</td>\n      <td>20.000000</td>\n      <td>30.000000</td>\n      <td>40.000000</td>\n      <td>50.000000</td>\n      <td>60.000000</td>\n    </tr>\n    <tr>\n      <th>1</th>\n      <td>YAL026C</td>\n      <td>1.0</td>\n      <td>0.703032</td>\n      <td>NaN</td>\n      <td>NaN</td>\n      <td>NaN</td>\n      <td>0.713088</td>\n      <td>0.332218</td>\n      <td>0.215325</td>\n      <td>0.226495</td>\n      <td>...</td>\n      <td>NaN</td>\n      <td>NaN</td>\n      <td>NaN</td>\n      <td>NaN</td>\n      <td>NaN</td>\n      <td>NaN</td>\n      <td>NaN</td>\n      <td>NaN</td>\n      <td>NaN</td>\n      <td>NaN</td>\n    </tr>\n    <tr>\n      <th>2</th>\n      <td>YDR148C</td>\n      <td>NaN</td>\n      <td>NaN</td>\n      <td>NaN</td>\n      <td>NaN</td>\n      <td>NaN</td>\n      <td>NaN</td>\n      <td>NaN</td>\n      <td>NaN</td>\n      <td>NaN</td>\n      <td>...</td>\n      <td>0.374799</td>\n      <td>1.0</td>\n      <td>0.968435</td>\n      <td>NaN</td>\n      <td>0.551961</td>\n      <td>0.430054</td>\n      <td>0.483829</td>\n      <td>0.398754</td>\n      <td>0.223900</td>\n      <td>0.246680</td>\n    </tr>\n    <tr>\n      <th>3</th>\n      <td>YIL125W</td>\n      <td>1.0</td>\n      <td>1.176639</td>\n      <td>0.823170</td>\n      <td>0.556528</td>\n      <td>NaN</td>\n      <td>0.712678</td>\n      <td>0.427962</td>\n      <td>0.320204</td>\n      <td>0.276578</td>\n      <td>...</td>\n      <td>NaN</td>\n      <td>1.0</td>\n      <td>0.830889</td>\n      <td>0.577928</td>\n      <td>0.812495</td>\n      <td>0.591393</td>\n      <td>0.564740</td>\n      <td>0.450448</td>\n      <td>0.494973</td>\n      <td>0.374799</td>\n    </tr>\n    <tr>\n      <th>4</th>\n      <td>YLR240W</td>\n      <td>NaN</td>\n      <td>NaN</td>\n      <td>NaN</td>\n      <td>NaN</td>\n      <td>NaN</td>\n      <td>NaN</td>\n      <td>NaN</td>\n      <td>NaN</td>\n      <td>NaN</td>\n      <td>...</td>\n      <td>NaN</td>\n      <td>1.0</td>\n      <td>0.930606</td>\n      <td>NaN</td>\n      <td>0.637943</td>\n      <td>NaN</td>\n      <td>0.610046</td>\n      <td>0.340338</td>\n      <td>0.260625</td>\n      <td>NaN</td>\n    </tr>\n    <tr>\n      <th>...</th>\n      <td>...</td>\n      <td>...</td>\n      <td>...</td>\n      <td>...</td>\n      <td>...</td>\n      <td>...</td>\n      <td>...</td>\n      <td>...</td>\n      <td>...</td>\n      <td>...</td>\n      <td>...</td>\n      <td>...</td>\n      <td>...</td>\n      <td>...</td>\n      <td>...</td>\n      <td>...</td>\n      <td>...</td>\n      <td>...</td>\n      <td>...</td>\n      <td>...</td>\n      <td>...</td>\n    </tr>\n    <tr>\n      <th>6180</th>\n      <td>YHR217C</td>\n      <td>1.0</td>\n      <td>NaN</td>\n      <td>NaN</td>\n      <td>NaN</td>\n      <td>NaN</td>\n      <td>1.086471</td>\n      <td>-0.683673</td>\n      <td>0.853815</td>\n      <td>0.131799</td>\n      <td>...</td>\n      <td>0.621047</td>\n      <td>1.0</td>\n      <td>0.720896</td>\n      <td>0.217361</td>\n      <td>0.372403</td>\n      <td>-0.245485</td>\n      <td>-1.210194</td>\n      <td>0.255268</td>\n      <td>-1.275420</td>\n      <td>NaN</td>\n    </tr>\n    <tr>\n      <th>6181</th>\n      <td>YPR202W</td>\n      <td>1.0</td>\n      <td>-1.614135</td>\n      <td>-1.987968</td>\n      <td>-1.572060</td>\n      <td>-2.140755</td>\n      <td>NaN</td>\n      <td>-2.624831</td>\n      <td>NaN</td>\n      <td>-2.929300</td>\n      <td>...</td>\n      <td>-2.435356</td>\n      <td>1.0</td>\n      <td>-1.062584</td>\n      <td>-1.766918</td>\n      <td>-1.066211</td>\n      <td>-1.900540</td>\n      <td>-1.659776</td>\n      <td>-2.599347</td>\n      <td>-3.163888</td>\n      <td>-2.765729</td>\n    </tr>\n    <tr>\n      <th>6182</th>\n      <td>YFL063W</td>\n      <td>1.0</td>\n      <td>0.709353</td>\n      <td>NaN</td>\n      <td>NaN</td>\n      <td>0.384163</td>\n      <td>-0.003912</td>\n      <td>-1.611686</td>\n      <td>NaN</td>\n      <td>-1.417343</td>\n      <td>...</td>\n      <td>NaN</td>\n      <td>1.0</td>\n      <td>NaN</td>\n      <td>-1.107214</td>\n      <td>-0.985987</td>\n      <td>-1.409186</td>\n      <td>-1.515253</td>\n      <td>-2.073723</td>\n      <td>-2.828369</td>\n      <td>NaN</td>\n    </tr>\n    <tr>\n      <th>6183</th>\n      <td>YDR543C</td>\n      <td>1.0</td>\n      <td>0.384179</td>\n      <td>-11.808840</td>\n      <td>-12.892562</td>\n      <td>NaN</td>\n      <td>-88.868870</td>\n      <td>NaN</td>\n      <td>NaN</td>\n      <td>NaN</td>\n      <td>...</td>\n      <td>NaN</td>\n      <td>1.0</td>\n      <td>NaN</td>\n      <td>NaN</td>\n      <td>NaN</td>\n      <td>NaN</td>\n      <td>NaN</td>\n      <td>NaN</td>\n      <td>NaN</td>\n      <td>NaN</td>\n    </tr>\n    <tr>\n      <th>6184</th>\n      <td>YGL260W</td>\n      <td>1.0</td>\n      <td>-1.695612</td>\n      <td>-0.029452</td>\n      <td>-0.208028</td>\n      <td>1.084516</td>\n      <td>NaN</td>\n      <td>NaN</td>\n      <td>-0.222101</td>\n      <td>NaN</td>\n      <td>...</td>\n      <td>NaN</td>\n      <td>1.0</td>\n      <td>1.169410</td>\n      <td>NaN</td>\n      <td>NaN</td>\n      <td>NaN</td>\n      <td>NaN</td>\n      <td>NaN</td>\n      <td>NaN</td>\n      <td>NaN</td>\n    </tr>\n  </tbody>\n</table>\n<p>6185 rows × 27 columns</p>\n</div>"
     },
     "execution_count": 74,
     "metadata": {},
     "output_type": "execute_result"
    }
   ],
   "source": [
    "decay_df"
   ],
   "metadata": {
    "collapsed": false,
    "ExecuteTime": {
     "end_time": "2024-02-21T20:28:54.859859500Z",
     "start_time": "2024-02-21T20:28:54.819562100Z"
    }
   },
   "id": "5d6e89f88fb33edb",
   "execution_count": 74
  },
  {
   "cell_type": "code",
   "outputs": [],
   "source": [
    "###################################################\n",
    "# Split the Dataframes per Time Course Experiment #\n",
    "###################################################\n",
    "\n",
    "# Initialize a list to keep track of the start indices of each 'timecourse' set\n",
    "timecourse_start_indices = []\n",
    "\n",
    "# Identify columns that start with 'timecourse'\n",
    "# Generate the index intervals for each timecourse dataset\n",
    "for col_index, col in enumerate(decay_df.columns):\n",
    "    if col.startswith('timecourse'):\n",
    "        timecourse_start_indices.append(col_index)\n",
    "\n",
    "# Add the last column index to cover the range for the last segment\n",
    "timecourse_start_indices.append(len(decay_df.columns))\n",
    "\n",
    "# Generate the actual intervals as ranges\n",
    "timecourse_interval_ranges = []\n",
    "for i,start_index in enumerate(timecourse_start_indices):\n",
    "    # Skip the first element\n",
    "    if i == 0: continue\n",
    "    \n",
    "    # The interval from the previous index to the current index are the interval endpoints for each time course set\n",
    "    interval_range = range(timecourse_start_indices[i-1],timecourse_start_indices[i])\n",
    "    \n",
    "    # Append the Interval Range into the List\n",
    "    timecourse_interval_ranges.append(interval_range)"
   ],
   "metadata": {
    "collapsed": false,
    "ExecuteTime": {
     "end_time": "2024-02-21T20:28:54.860871700Z",
     "start_time": "2024-02-21T20:28:54.840073300Z"
    }
   },
   "id": "c1d1d8baea3fa065",
   "execution_count": 75
  },
  {
   "cell_type": "code",
   "outputs": [
    {
     "name": "stdout",
     "output_type": "stream",
     "text": [
      "Decay Timecourse Dataframe from range(1, 10) \n",
      "\n",
      " 0     YORF  0.0       5.0     10.0      15.0  20.0      30.0      40.0  \\\n",
      "1  YAL026C  1.0  0.703032      NaN       NaN   NaN  0.713088  0.332218   \n",
      "2  YDR148C  NaN       NaN      NaN       NaN   NaN       NaN       NaN   \n",
      "3  YIL125W  1.0  1.176639  0.82317  0.556528   NaN  0.712678  0.427962   \n",
      "\n",
      "0      50.0      60.0  \n",
      "1  0.215325  0.226495  \n",
      "2       NaN       NaN  \n",
      "3  0.320204  0.276578   \n",
      "\n",
      "Decay Timecourse Dataframe from range(10, 18) \n",
      "\n",
      " 0     YORF  0.0       5.0      10.0      20.0      30.0      40.0      50.0  \\\n",
      "1  YAL026C  1.0  1.160240       NaN  1.129715  0.645523  0.344193  0.635076   \n",
      "2  YDR148C  1.0  0.830889  0.577928  0.591393  0.564740  0.450448  0.494973   \n",
      "3  YIL125W  1.0  0.978603  0.574234  0.685354  0.705738  0.403536  0.480144   \n",
      "\n",
      "0      60.0  \n",
      "1       NaN  \n",
      "2  0.374799  \n",
      "3       NaN   \n",
      "\n",
      "Decay Timecourse Dataframe from range(18, 27) \n",
      "\n",
      " 0     YORF  0.0       5.0      10.0      15.0      20.0      30.0      40.0  \\\n",
      "1  YAL026C  NaN       NaN       NaN       NaN       NaN       NaN       NaN   \n",
      "2  YDR148C  1.0  0.968435       NaN  0.551961  0.430054  0.483829  0.398754   \n",
      "3  YIL125W  1.0  0.830889  0.577928  0.812495  0.591393  0.564740  0.450448   \n",
      "\n",
      "0      50.0      60.0  \n",
      "1       NaN       NaN  \n",
      "2  0.223900  0.246680  \n",
      "3  0.494973  0.374799   \n"
     ]
    }
   ],
   "source": [
    "# Initialize the List to store the individual Time Course DFs\n",
    "decay_timecourse_dfs = []\n",
    "\n",
    "# Iterate through the Ranges corresponding to the Endpoints of each Time Course\n",
    "for timecourse_interval_range in timecourse_interval_ranges:\n",
    "    \n",
    "    # Select the Range of each Time Course \n",
    "    # Note iloc is the subset of the dataframe\n",
    "    # iloc uses indices verus loc which uses column and row labels\n",
    "    decay_timecourse_df = decay_df.iloc[:,timecourse_interval_range]\n",
    "    \n",
    "    # Add the first column which is the label for each row\n",
    "    # The first column was lost when the df was split and must be fused\n",
    "    # Fusion is performed via Pandas' df concat along the \n",
    "    decay_df_row_labels = decay_df.iloc[:, 0]\n",
    "    decay_timecourse_df = pd.concat([decay_df_row_labels, decay_timecourse_df], axis=\"columns\")\n",
    "    \n",
    "    # Set the Column Labels, i.e. the Headers, to the Row of Index = 0\n",
    "    decay_timecourse_df.columns = decay_timecourse_df.iloc[0,:]\n",
    "\n",
    "    # Drop the First Row which is the Header but Keep All the Columns\n",
    "    decay_timecourse_df = decay_timecourse_df.iloc[1:,:]\n",
    "    \n",
    "    # Reset the Index In-Place\n",
    "    # decay_timecourse_df.reset_index(drop=True, inplace=True)\n",
    "\n",
    "    # Attach the Individual DF to the List of DFs\n",
    "    decay_timecourse_dfs.append(decay_timecourse_df)\n",
    "\n",
    "    # Debug, display the Header\n",
    "    print(f\"Decay Timecourse Dataframe from {str(timecourse_interval_range)} \\n\\n\", decay_timecourse_df.head(3), \"\\n\")\n",
    "    \n",
    "# decay_timecourse_dfs now contains individual dfs for each time course"
   ],
   "metadata": {
    "collapsed": false,
    "ExecuteTime": {
     "end_time": "2024-02-21T20:34:51.921746300Z",
     "start_time": "2024-02-21T20:34:51.898527Z"
    }
   },
   "id": "474f18ead4c6a939",
   "execution_count": 88
  },
  {
   "cell_type": "code",
   "outputs": [],
   "source": [
    "###################################################\n",
    "# Restructure DFs into Optimal Form for Analytics #\n",
    "###################################################\n",
    "\n",
    "for decay_timecourse_df in decay_timecourse_dfs:\n",
    "    # Use Pandas Melt"
   ],
   "metadata": {
    "collapsed": false,
    "ExecuteTime": {
     "end_time": "2024-02-21T20:28:54.881303500Z",
     "start_time": "2024-02-21T20:28:54.864258300Z"
    }
   },
   "id": "c27a6330850165bf",
   "execution_count": 76
  }
 ],
 "metadata": {
  "kernelspec": {
   "display_name": "Python 3",
   "language": "python",
   "name": "python3"
  },
  "language_info": {
   "codemirror_mode": {
    "name": "ipython",
    "version": 2
   },
   "file_extension": ".py",
   "mimetype": "text/x-python",
   "name": "python",
   "nbconvert_exporter": "python",
   "pygments_lexer": "ipython2",
   "version": "2.7.6"
  }
 },
 "nbformat": 4,
 "nbformat_minor": 5
}
