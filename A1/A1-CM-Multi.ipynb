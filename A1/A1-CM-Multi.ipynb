{
 "cells": [
  {
   "cell_type": "code",
   "outputs": [],
   "source": [
    "# Import Libraries\n",
    "import pandas as pd  # Data Reading\n",
    "import seaborn as sb  # Advanced Data Visualization\n",
    "import matplotlib.pyplot as mplot  # Data Visualization\n",
    "import numpy as numpy # Computation"
   ],
   "metadata": {
    "collapsed": false,
    "ExecuteTime": {
     "end_time": "2024-02-14T22:02:18.475909900Z",
     "start_time": "2024-02-14T22:02:18.454759800Z"
    }
   },
   "id": "32af418f802e5bc8",
   "execution_count": 65
  },
  {
   "cell_type": "code",
   "outputs": [],
   "source": [
    "# Input Matrix Files\n",
    "matrices = [\"matrix1\", \"matrix2\"]\n",
    "input_folder = \"data/\"\n",
    "output_folder = \"output/\""
   ],
   "metadata": {
    "collapsed": false,
    "ExecuteTime": {
     "end_time": "2024-02-14T22:02:18.489950900Z",
     "start_time": "2024-02-14T22:02:18.479908500Z"
    }
   },
   "id": "172de9a00b6dcb27",
   "execution_count": 66
  },
  {
   "cell_type": "code",
   "outputs": [],
   "source": [
    "def read_matrix(folder: str, file_name: str, extension: str):\n",
    "    # Function Reads the Matrix and Returns it as a Pandas DF\n",
    "    extension = \".\" + extension.lower()\n",
    "    file_path = folder + file_name + extension\n",
    "    matrix_df = pd.read_csv(file_path, sep='\\t', header=0)\n",
    "\n",
    "    return matrix_df"
   ],
   "metadata": {
    "collapsed": false,
    "ExecuteTime": {
     "end_time": "2024-02-14T22:02:18.514841700Z",
     "start_time": "2024-02-14T22:02:18.492960600Z"
    }
   },
   "id": "bde2c8900ab0eb90",
   "execution_count": 67
  },
  {
   "cell_type": "code",
   "outputs": [],
   "source": [
    "def data_to_correlation_matrix(data_df, matrix_name: str, digits=3) -> dict:\n",
    "    # Function Returns a Correlation Matrix from a Txt File\n",
    "\n",
    "    # Drop the Extra Column Produced by Extraneous Delimiters\n",
    "    data_df = data_df.drop(columns=['Unnamed: 13'])\n",
    "\n",
    "    # Excluding the non-numeric column (assuming it's the first column)\n",
    "    numeric_df = data_df.select_dtypes(include=[float, int])\n",
    "\n",
    "    # Generate the Correlation Matrix\n",
    "    correlation_matrix_df = numeric_df.corr()\n",
    "    correlation_matrix_df = correlation_matrix_df.round(decimals=digits)\n",
    "    \n",
    "    # Generate the Vector of Values\n",
    "    correlation_vector = correlation_matrix_df.values.flatten()\n",
    "    \n",
    "    \n",
    "    def correlation_matrix_to_correlation_table(correlation_matrix_df: pd.DataFrame, matrix_row_name=\"X\", matrix_column_name=\"Y\", remove_redundancy=True)-> pd.DataFrame:\n",
    "        # Generate a Table of Values in the Form Row | Column | Correlation_Coefficient\n",
    "        \n",
    "        # df.stack() method converts a DF with row labels and column labels in a 2D arrangement into a 1D arrangement\n",
    "        # df.stack() yields a hierarchical structure with each row having all the values for that row compressed into it\n",
    "        correlation_matrix_df_stacked = correlation_matrix_df.stack()\n",
    "        # correlation_matrix_df_stacked\n",
    "\n",
    "        # df.reset_index() converts the hierarchical structure into an indexed list instead with repeating rows\n",
    "        correlation_table_df = correlation_matrix_df_stacked.reset_index()\n",
    "\n",
    "        # Rename the Columns of the Correlation Table Dataframe\n",
    "        correlation_table_df.columns  = [matrix_row_name, matrix_column_name, 'Correlation Coefficient']\n",
    "        \n",
    "        # Remove Redundant Values where the X and Y values are the same\n",
    "        if remove_redundancy:\n",
    "            # Remove Columns where the correlation is between the same variable which automatically yields a perfect correlation of 1\n",
    "            correlation_table_df = correlation_table_df[correlation_table_df[matrix_row_name] != correlation_table_df[matrix_column_name]]\n",
    "            \n",
    "            # Remove Rows that Contain the same X and Y variable, just flipped\n",
    "            # Initialize a list to contain the unique row and column pairs\n",
    "            unique_column_row_pairs = []\n",
    "            # Initializes a list to contain the rows to be removed\n",
    "            rows_to_remove = []\n",
    "            \n",
    "            # Iterate through each row of the table\n",
    "            for index, row in correlation_table_df.iterrows():\n",
    "                # Create a set for the current row's pair\n",
    "                # Leverage a set's nature to have no duplicate values\n",
    "                # Must use a frozen set, frozenset([ ... ]), versus just a set, { ... }, as frozen sets are hashable\n",
    "                # Frozen sets can be used or ordered tuples to be used in a list for a membership check\n",
    "                current_column_row_pair = frozenset([row[matrix_row_name], row[matrix_column_name]])\n",
    "            \n",
    "                # Check if this current pair is unique and not already identified\n",
    "                if current_column_row_pair not in unique_column_row_pairs:\n",
    "                    # Identify the Pair as Unique\n",
    "                    # This pair will now be unavailable to be added into the list again and will be marked for deletion if found again\n",
    "                    unique_column_row_pairs.append(current_column_row_pair)\n",
    "\n",
    "                # If not, mark this pair to be removed\n",
    "                else: rows_to_remove.append(index)\n",
    "            \n",
    "            # Drop the rows marked for deletion\n",
    "            correlation_table_df.drop(rows_to_remove, inplace=True)\n",
    "\n",
    "        # correlation_table_df \n",
    "            \n",
    "        # Return the Table of Correlation Coefficients\n",
    "        return correlation_table_df\n",
    "        \n",
    "        \n",
    "    # Generate a Table of Values in the Form Row | Column | Correlation_Coefficient\n",
    "    correlation_table = correlation_matrix_to_correlation_table(correlation_matrix_df, \"Cancer - X\", \"Cancer - Y\", True)\n",
    "\n",
    "    # Return the Dictionary\n",
    "    return {\"name\": matrix_name, \"matrix\": correlation_matrix_df, \"vector\": correlation_vector, \"table\": correlation_table}"
   ],
   "metadata": {
    "collapsed": false,
    "ExecuteTime": {
     "end_time": "2024-02-14T22:02:18.515870100Z",
     "start_time": "2024-02-14T22:02:18.499921100Z"
    }
   },
   "id": "7e8f2fb7ea78a84b",
   "execution_count": 68
  },
  {
   "cell_type": "code",
   "outputs": [],
   "source": [
    "def generate_correlation_matrix_heatmap(correlation_matrix, matrix_name: str, figure_ppi=1000, output_folder_path=output_folder, figure_palette=\"mako\"):\n",
    "        # Function to Generate a Heatmap from a Correlation Matrix and Save It\n",
    "        \n",
    "        # Heatmap Plot\n",
    "        mplot.figure(figsize=(8, 5), dpi=figure_ppi)\n",
    "        sb.heatmap(correlation_matrix, annot=True, fmt=\".2f\", cmap=figure_palette, vmin=0, vmax=1)\n",
    "\n",
    "        # Path to the Output File\n",
    "        output_file_path = output_folder_path + matrix_name + \"_heatmap.png\"\n",
    "\n",
    "        # Save the Figure\n",
    "        mplot.savefig(output_file_path, dpi=figure_ppi, bbox_inches='tight', transparent=True)"
   ],
   "metadata": {
    "collapsed": false,
    "ExecuteTime": {
     "end_time": "2024-02-14T22:02:18.515870100Z",
     "start_time": "2024-02-14T22:02:18.506168600Z"
    }
   },
   "id": "7bc8ad6659d25f53",
   "execution_count": 69
  },
  {
   "cell_type": "code",
   "outputs": [],
   "source": [
    "def merged_correlation_table_dfs(correlation_table_df1: pd.DataFrame, correlation_table_df2: pd.DataFrame)-> pd.DataFrame:\n",
    "    # Function to merge two correlation table dfs, generated from correlation matrix dfs, together on the same rows and columns\n",
    "\n",
    "    # # Reset index in case the X and Y columns are part of the index - Unnessecary\n",
    "    # correlation_table_df1 = correlation_table_df1.reset_index()\n",
    "    # correlation_table_df2 = correlation_table_df2.reset_index()\n",
    "    \n",
    "    # Grab the X & Y columns of each dataframe which should be the first 2 columns\n",
    "    correlation_matrix_df1_xy_columns = correlation_table_df1.columns[:2].tolist()\n",
    "    correlation_matrix_df2_xy_columns = correlation_table_df2.columns[:2].tolist()\n",
    "\n",
    "    # Break the Function if the Columns are not the same\n",
    "    if correlation_matrix_df1_xy_columns != correlation_matrix_df2_xy_columns:\n",
    "        exit(\"Correlation Table DFs are not Comparable\")\n",
    "\n",
    "    # Merge the Dataframes on the X and Y columns which correspond to the rows and columns of the original correlation matrix\n",
    "    # Suffixes apply a label to non-merged columns\n",
    "    merged_correlation_df = pd.merge(correlation_table_df1, correlation_table_df2, on=correlation_matrix_df1_xy_columns, suffixes=(' Mx 1', ' Mx 2'))\n",
    "\n",
    "    # Return the Table DF which should have the format X | Y | Correlation Coefficient Mx 1 | Correlation Coefficient Mx 1\n",
    "    return merged_correlation_df"
   ],
   "metadata": {
    "collapsed": false
   },
   "id": "bf6a49b27b31b7d0",
   "execution_count": null
  },
  {
   "cell_type": "code",
   "outputs": [],
   "source": [
    "def pearson_correlation_of_correlations(merged_correlation_table_df: pd.DataFrame)-> float:\n",
    "    # Get the Pearson Correlation Coefficient of the Two Correlation Coefficient Columns\n",
    "    \n",
    "    # Get the names of the last two columns dynamically\n",
    "    correlation_coefficient_columns = merged_correlation_df.columns[-2:]\n",
    "\n",
    "    # Calculate and return the Pearson correlation coefficient\n",
    "    correlation_coefficient = merged_correlation_df[correlation_coefficient_columns[0]].corr(merged_correlation_df[correlation_coefficient_columns[1]])\n",
    "    \n",
    "    # Return the Pearson Correlation Coefficient\n",
    "    return correlation_coefficient\n"
   ],
   "metadata": {
    "collapsed": false,
    "ExecuteTime": {
     "end_time": "2024-02-14T22:02:18.545397300Z",
     "start_time": "2024-02-14T22:02:18.514841700Z"
    }
   },
   "id": "7297b2f1d4af3b71",
   "execution_count": 70
  },
  {
   "cell_type": "code",
   "outputs": [],
   "source": [
    "# Temporary List of Dictionaries in the format [{ name: val, matrix: val }, {...}]\n",
    "correlation_matrices = []\n",
    "\n",
    "# Generate Correlation Matrices for Each Matrix File\n",
    "for matrix_name in matrices:\n",
    "    # Obtain the DF from the Matrix.txt\n",
    "    matrix_data = read_matrix(input_folder, matrix_name, \"txt\")\n",
    "    \n",
    "    # Use the DF to generate a Correlation Matrix\n",
    "    correlation_matrix_dict = data_to_correlation_matrix(matrix_data,matrix_name)\n",
    "\n",
    "    # Generate and Save Heatmaps of Each Correlation Matrix\n",
    "    # generate_correlation_matrix_heatmap(correlation_matrix_dict[\"matrix\"],correlation_matrix_dict[\"name\"])\n",
    "    \n",
    "    # Bind the Correlation Matrix Dictionary to the Array of Correlation Matrix Dictionaries\n",
    "    correlation_matrices.append(correlation_matrix_dict)\n"
   ],
   "metadata": {
    "collapsed": false,
    "ExecuteTime": {
     "end_time": "2024-02-14T22:02:18.550454800Z",
     "start_time": "2024-02-14T22:02:18.522809900Z"
    }
   },
   "id": "dfcdd72b8042cac1",
   "execution_count": 71
  },
  {
   "cell_type": "code",
   "outputs": [
    {
     "name": "stdout",
     "output_type": "stream",
     "text": [
      "The Direct Pearson Correlation Coefficient:0.2977980555979312\n",
      "The Aligned Pearson Correlation Coefficient:0.14595968767899742\n"
     ]
    }
   ],
   "source": [
    "# Methods to Compute Pearson Correlation Coefficient:\n",
    "\n",
    "# Method 1: Straight from Flattened Correlation Matrices\n",
    "direct_pearson_correlation_coefficient = numpy.corrcoef(correlation_matrices[0][\"vector\"],correlation_matrices[1][\"vector\"])[0,1]\n",
    "print(\"The Direct Pearson Correlation Coefficient:\"+str(direct_pearson_correlation_coefficient))\n",
    "\n",
    "# Method 2: Align the Correlation Coefficients in a Non-Redundant Table and then take the Correlation Coefficient of the Two Columns\n",
    "merged_correlation_df = merged_correlation_table_dfs(correlation_matrices[0][\"table\"], correlation_matrices[1][\"table\"])\n",
    "aligned_pearson_correlation_coefficient = pearson_correlation_of_correlations(merged_correlation_df)\n",
    "print(\"The Aligned Pearson Correlation Coefficient:\"+str(aligned_pearson_correlation_coefficient))"
   ],
   "metadata": {
    "collapsed": false,
    "ExecuteTime": {
     "end_time": "2024-02-14T22:07:29.386177400Z",
     "start_time": "2024-02-14T22:07:29.369791200Z"
    }
   },
   "id": "a3a3f93635279ec2",
   "execution_count": 76
  }
 ],
 "metadata": {
  "kernelspec": {
   "display_name": "Python 3",
   "language": "python",
   "name": "python3"
  },
  "language_info": {
   "codemirror_mode": {
    "name": "ipython",
    "version": 2
   },
   "file_extension": ".py",
   "mimetype": "text/x-python",
   "name": "python",
   "nbconvert_exporter": "python",
   "pygments_lexer": "ipython2",
   "version": "2.7.6"
  }
 },
 "nbformat": 4,
 "nbformat_minor": 5
}
