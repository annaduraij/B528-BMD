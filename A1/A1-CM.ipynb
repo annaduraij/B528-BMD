{
 "cells": [
  {
   "cell_type": "code",
   "outputs": [],
   "source": [
    "#Import Libraries\n",
    "import pandas as pd #Data Reading\n",
    "import seaborn as sb #Data Visualization\n",
    "import matplotlib.pyplot as mplot #Data Visualization"
   ],
   "metadata": {
    "collapsed": false,
    "ExecuteTime": {
     "end_time": "2024-02-14T03:22:58.309501600Z",
     "start_time": "2024-02-14T03:22:58.303547600Z"
    }
   },
   "id": "b14b453e69cdbb39",
   "execution_count": 1
  },
  {
   "cell_type": "code",
   "outputs": [
    {
     "name": "stdout",
     "output_type": "stream",
     "text": [
      "             miRNA       bladder  breast_cancer      cervical   head n neck  \\\n",
      "0     hsa-mir-3128      0.000000       0.000000      0.000000      0.517950   \n",
      "1     hsa-mir-3658      0.000000       0.000000      0.000000      0.000000   \n",
      "2      hsa-mir-217      8.155420      13.079703      1.292636      1.553849   \n",
      "3       hsa-mir-22  63975.513995   67989.751326  33975.331973  38610.030611   \n",
      "4      hsa-mir-612      0.107308       0.000000      0.430879      1.035899   \n",
      "...            ...           ...            ...           ...           ...   \n",
      "1041  hsa-mir-3908      0.000000       0.000000      0.000000      0.000000   \n",
      "1042   hsa-mir-384      0.000000       0.000000      0.000000      0.000000   \n",
      "1043  hsa-mir-3142      0.000000       0.000000      0.000000      0.000000   \n",
      "1044  hsa-mir-1305      0.000000       0.726650      0.000000      0.000000   \n",
      "1045  hsa-mir-3178      0.000000       0.000000      0.000000      0.000000   \n",
      "\n",
      "              KIRC          KIRP          LUAD           LUSC          PRAD  \\\n",
      "0         0.000000      0.000000      0.000000       0.000000      0.000000   \n",
      "1         0.000000      0.000000      0.000000       0.000000      0.000000   \n",
      "2        22.170186      8.636935     11.046939      13.892229     48.364237   \n",
      "3     62109.621268  53628.721821  46660.234247  136844.266034  41627.489632   \n",
      "4         0.000000      0.000000      0.000000       0.414693      0.300399   \n",
      "...            ...           ...           ...            ...           ...   \n",
      "1041      0.000000      0.000000      0.000000       0.000000      0.000000   \n",
      "1042      0.000000      0.000000      0.000000       0.000000      0.000000   \n",
      "1043      0.000000      0.000000      0.000000       0.000000      0.000000   \n",
      "1044      0.000000      0.531504      0.000000       0.000000      0.300399   \n",
      "1045      0.000000      0.132876      0.000000       0.207347      0.000000   \n",
      "\n",
      "              STAD           THCA          UCEC  \n",
      "0         0.000000       0.000000      0.000000  \n",
      "1         0.000000       0.000000      0.000000  \n",
      "2        52.588652     179.892491      6.354620  \n",
      "3     40988.876239  113622.248125  63806.452135  \n",
      "4         0.097027       0.000000      0.000000  \n",
      "...            ...            ...           ...  \n",
      "1041      0.000000       0.000000      0.000000  \n",
      "1042      0.000000       0.000000      0.000000  \n",
      "1043      0.000000       0.000000      0.000000  \n",
      "1044      0.582162       0.210894      0.288846  \n",
      "1045      0.000000       0.000000      0.000000  \n",
      "\n",
      "[1046 rows x 13 columns]\n"
     ]
    }
   ],
   "source": [
    "#Data Insertion\n",
    "data = pd.read_csv('data/matrix1.txt', sep='\\t')\n",
    "#Drop the Extra Column Produced by Extraneous Delimiters\n",
    "data = data.drop(columns=['Unnamed: 13'])\n",
    "print(data)"
   ],
   "metadata": {
    "collapsed": false,
    "ExecuteTime": {
     "end_time": "2024-02-14T03:22:58.344655200Z",
     "start_time": "2024-02-14T03:22:58.309501600Z"
    }
   },
   "id": "e30e6299de7bb0ac",
   "execution_count": 2
  },
  {
   "cell_type": "code",
   "outputs": [
    {
     "ename": "AttributeError",
     "evalue": "'DataFrame' object has no attribute 'select_dtypest_dtypes'",
     "output_type": "error",
     "traceback": [
      "\u001B[1;31m---------------------------------------------------------------------------\u001B[0m",
      "\u001B[1;31mAttributeError\u001B[0m                            Traceback (most recent call last)",
      "\u001B[1;32m~\\AppData\\Local\\Temp\\ipykernel_8728\\2109881548.py\u001B[0m in \u001B[0;36m?\u001B[1;34m()\u001B[0m\n\u001B[0;32m      1\u001B[0m \u001B[1;31m# Excluding the non-numeric column (assuming it's the first column)\u001B[0m\u001B[1;33m\u001B[0m\u001B[1;33m\u001B[0m\u001B[0m\n\u001B[1;32m----> 2\u001B[1;33m \u001B[0mnumericData\u001B[0m \u001B[1;33m=\u001B[0m \u001B[0mdata\u001B[0m\u001B[1;33m.\u001B[0m\u001B[0mselect_dtypest_dtypes\u001B[0m\u001B[1;33m(\u001B[0m\u001B[0minclude\u001B[0m\u001B[1;33m=\u001B[0m\u001B[1;33m[\u001B[0m\u001B[0mfloat\u001B[0m\u001B[1;33m,\u001B[0m \u001B[0mint\u001B[0m\u001B[1;33m]\u001B[0m\u001B[1;33m)\u001B[0m\u001B[1;33m\u001B[0m\u001B[1;33m\u001B[0m\u001B[0m\n\u001B[0m\u001B[0;32m      3\u001B[0m \u001B[1;33m\u001B[0m\u001B[0m\n\u001B[0;32m      4\u001B[0m \u001B[1;31m#Pearson Correlation Matrix Computation\u001B[0m\u001B[1;33m\u001B[0m\u001B[1;33m\u001B[0m\u001B[0m\n\u001B[0;32m      5\u001B[0m \u001B[0mcorrelationMatrix\u001B[0m \u001B[1;33m=\u001B[0m \u001B[0mnumericData\u001B[0m\u001B[1;33m.\u001B[0m\u001B[0mcorr\u001B[0m\u001B[1;33m(\u001B[0m\u001B[1;33m)\u001B[0m\u001B[1;33m\u001B[0m\u001B[1;33m\u001B[0m\u001B[0m\n",
      "\u001B[1;32m~\\.conda\\envs\\BioMedData\\Lib\\site-packages\\pandas\\core\\generic.py\u001B[0m in \u001B[0;36m?\u001B[1;34m(self, name)\u001B[0m\n\u001B[0;32m   6200\u001B[0m             \u001B[1;32mand\u001B[0m \u001B[0mname\u001B[0m \u001B[1;32mnot\u001B[0m \u001B[1;32min\u001B[0m \u001B[0mself\u001B[0m\u001B[1;33m.\u001B[0m\u001B[0m_accessors\u001B[0m\u001B[1;33m\u001B[0m\u001B[1;33m\u001B[0m\u001B[0m\n\u001B[0;32m   6201\u001B[0m             \u001B[1;32mand\u001B[0m \u001B[0mself\u001B[0m\u001B[1;33m.\u001B[0m\u001B[0m_info_axis\u001B[0m\u001B[1;33m.\u001B[0m\u001B[0m_can_hold_identifiers_and_holds_name\u001B[0m\u001B[1;33m(\u001B[0m\u001B[0mname\u001B[0m\u001B[1;33m)\u001B[0m\u001B[1;33m\u001B[0m\u001B[1;33m\u001B[0m\u001B[0m\n\u001B[0;32m   6202\u001B[0m         ):\n\u001B[0;32m   6203\u001B[0m             \u001B[1;32mreturn\u001B[0m \u001B[0mself\u001B[0m\u001B[1;33m[\u001B[0m\u001B[0mname\u001B[0m\u001B[1;33m]\u001B[0m\u001B[1;33m\u001B[0m\u001B[1;33m\u001B[0m\u001B[0m\n\u001B[1;32m-> 6204\u001B[1;33m         \u001B[1;32mreturn\u001B[0m \u001B[0mobject\u001B[0m\u001B[1;33m.\u001B[0m\u001B[0m__getattribute__\u001B[0m\u001B[1;33m(\u001B[0m\u001B[0mself\u001B[0m\u001B[1;33m,\u001B[0m \u001B[0mname\u001B[0m\u001B[1;33m)\u001B[0m\u001B[1;33m\u001B[0m\u001B[1;33m\u001B[0m\u001B[0m\n\u001B[0m",
      "\u001B[1;31mAttributeError\u001B[0m: 'DataFrame' object has no attribute 'select_dtypest_dtypes'"
     ]
    }
   ],
   "source": [
    "# Excluding the non-numeric column (assuming it's the first column)\n",
    "numericData = data.select_dtypest_dtypes(include=[float, int])\n",
    "\n",
    "#Pearson Correlation Matrix Computation\n",
    "correlationMatrix = numericData.corr()\n",
    "print(correlationMatrix.round(3))"
   ],
   "metadata": {
    "collapsed": false,
    "ExecuteTime": {
     "end_time": "2024-02-14T03:22:58.587050800Z",
     "start_time": "2024-02-14T03:22:58.337651400Z"
    }
   },
   "id": "13ab79677063e709",
   "execution_count": 3
  },
  {
   "cell_type": "code",
   "outputs": [],
   "source": [
    "#Heatmap Plot\n",
    "mplot.figure(figsize=(5, 4), dpi=300) \n",
    "annotationProperties = {'size': 8}\n",
    "sb.heatmap(correlationMatrix, annot=True,annot_kws=annotationProperties, fmt=\".2f\", cmap=\"magma\", vmin=0, vmax=1)\n",
    "#Save the Figure\n",
    "mplot.savefig(\"matrix1_heatmap.png\", dpi=300, bbox_inches='tight', transparent=True)\n",
    "mplot.show()"
   ],
   "metadata": {
    "collapsed": false,
    "ExecuteTime": {
     "start_time": "2024-02-14T03:22:58.583551500Z"
    }
   },
   "id": "8473d4c15ed4fb25",
   "execution_count": null
  },
  {
   "cell_type": "code",
   "outputs": [],
   "source": [],
   "metadata": {
    "collapsed": false,
    "ExecuteTime": {
     "start_time": "2024-02-14T03:22:58.585541600Z"
    }
   },
   "id": "8d539f1582313d94",
   "execution_count": null
  }
 ],
 "metadata": {
  "kernelspec": {
   "display_name": "Python 3",
   "language": "python",
   "name": "python3"
  },
  "language_info": {
   "codemirror_mode": {
    "name": "ipython",
    "version": 2
   },
   "file_extension": ".py",
   "mimetype": "text/x-python",
   "name": "python",
   "nbconvert_exporter": "python",
   "pygments_lexer": "ipython2",
   "version": "2.7.6"
  }
 },
 "nbformat": 4,
 "nbformat_minor": 5
}
